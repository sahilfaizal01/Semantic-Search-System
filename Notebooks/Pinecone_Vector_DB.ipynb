{
  "nbformat": 4,
  "nbformat_minor": 0,
  "metadata": {
    "colab": {
      "provenance": []
    },
    "kernelspec": {
      "name": "python3",
      "display_name": "Python 3"
    },
    "language_info": {
      "name": "python"
    }
  },
  "cells": [
    {
      "cell_type": "code",
      "execution_count": 30,
      "metadata": {
        "colab": {
          "base_uri": "https://localhost:8080/"
        },
        "id": "y2si43BAkl0H",
        "outputId": "ca01c699-0d14-484a-9149-0773ac10524f"
      },
      "outputs": [
        {
          "output_type": "stream",
          "name": "stdout",
          "text": [
            "Requirement already satisfied: pinecone in /usr/local/lib/python3.10/dist-packages (5.0.1)\n",
            "Requirement already satisfied: pinecone-client==5.0.1 in /usr/local/lib/python3.10/dist-packages (from pinecone) (5.0.1)\n",
            "Requirement already satisfied: certifi>=2019.11.17 in /usr/local/lib/python3.10/dist-packages (from pinecone-client==5.0.1->pinecone) (2024.7.4)\n",
            "Requirement already satisfied: pinecone-plugin-inference<2.0.0,>=1.0.3 in /usr/local/lib/python3.10/dist-packages (from pinecone-client==5.0.1->pinecone) (1.0.3)\n",
            "Requirement already satisfied: pinecone-plugin-interface<0.0.8,>=0.0.7 in /usr/local/lib/python3.10/dist-packages (from pinecone-client==5.0.1->pinecone) (0.0.7)\n",
            "Requirement already satisfied: tqdm>=4.64.1 in /usr/local/lib/python3.10/dist-packages (from pinecone-client==5.0.1->pinecone) (4.66.5)\n",
            "Requirement already satisfied: typing-extensions>=3.7.4 in /usr/local/lib/python3.10/dist-packages (from pinecone-client==5.0.1->pinecone) (4.12.2)\n",
            "Requirement already satisfied: urllib3>=1.26.0 in /usr/local/lib/python3.10/dist-packages (from pinecone-client==5.0.1->pinecone) (2.0.7)\n"
          ]
        }
      ],
      "source": [
        "!pip install pinecone"
      ]
    },
    {
      "cell_type": "code",
      "source": [
        "import pinecone\n",
        "from pinecone import Pinecone, ServerlessSpec"
      ],
      "metadata": {
        "id": "gGR9Bp9ukmWQ"
      },
      "execution_count": 31,
      "outputs": []
    },
    {
      "cell_type": "code",
      "source": [
        "API_KEY=\"99505dca-9b45-4c1b-b3fe-398ff62a76d9\""
      ],
      "metadata": {
        "id": "F-ofl3fukmYu"
      },
      "execution_count": 32,
      "outputs": []
    },
    {
      "cell_type": "code",
      "source": [
        "pc = Pinecone(api_key=API_KEY)"
      ],
      "metadata": {
        "id": "hGeLbqY1l3AJ"
      },
      "execution_count": 33,
      "outputs": []
    },
    {
      "cell_type": "code",
      "source": [
        "index_name = \"test\""
      ],
      "metadata": {
        "id": "ZGiAvdhSmPrm"
      },
      "execution_count": 8,
      "outputs": []
    },
    {
      "cell_type": "code",
      "source": [
        "pc.create_index(\n",
        "    name=index_name,\n",
        "    dimension=2, # Replace with your model dimensions\n",
        "    metric=\"cosine\", # Replace with your model metric\n",
        "    spec=ServerlessSpec(\n",
        "        cloud=\"aws\",\n",
        "        region=\"us-east-1\"\n",
        "    )\n",
        ")\n",
        "# pod_type = 's1'"
      ],
      "metadata": {
        "id": "8BZNF8kskmbS"
      },
      "execution_count": 9,
      "outputs": []
    },
    {
      "cell_type": "code",
      "source": [
        "description = pc.describe_index(index_name) # describe an index\n",
        "\n",
        "host = description.host\n",
        "print(f\"Your index is hosted at {description.host}\")"
      ],
      "metadata": {
        "colab": {
          "base_uri": "https://localhost:8080/"
        },
        "id": "Ct5t_OZFyvHu",
        "outputId": "1ef1c094-e147-44b9-84de-2e258172cd91"
      },
      "execution_count": 26,
      "outputs": [
        {
          "output_type": "stream",
          "name": "stdout",
          "text": [
            "Your index is hosted at test-cbjmo6h.svc.aped-4627-b74a.pinecone.io\n"
          ]
        }
      ]
    },
    {
      "cell_type": "code",
      "source": [
        "if(description.status['state']=='Ready'):\n",
        "  print(\"Index is ready\")\n",
        "else:\n",
        "  print(\"Index is not ready\")"
      ],
      "metadata": {
        "colab": {
          "base_uri": "https://localhost:8080/"
        },
        "id": "sUsgqrlYzns3",
        "outputId": "9c497f2b-7dff-4e4d-a963-b9bcbd0bfdb4"
      },
      "execution_count": 27,
      "outputs": [
        {
          "output_type": "stream",
          "name": "stdout",
          "text": [
            "Index is ready\n"
          ]
        }
      ]
    },
    {
      "cell_type": "code",
      "source": [
        "description.dimension"
      ],
      "metadata": {
        "colab": {
          "base_uri": "https://localhost:8080/"
        },
        "id": "bZFV2fDuzvzX",
        "outputId": "ae50c16d-b1f1-4910-8fca-3bfbee6abae7"
      },
      "execution_count": 28,
      "outputs": [
        {
          "output_type": "execute_result",
          "data": {
            "text/plain": [
              "2"
            ]
          },
          "metadata": {},
          "execution_count": 28
        }
      ]
    },
    {
      "cell_type": "code",
      "source": [
        "description.pod_type # to get the pod type (hardware config for efficient storage)"
      ],
      "metadata": {
        "id": "GPiqP-osz1MX"
      },
      "execution_count": 29,
      "outputs": []
    },
    {
      "cell_type": "markdown",
      "source": [
        "# **Insertion and Updation**"
      ],
      "metadata": {
        "id": "CPCHw_xunFsG"
      }
    },
    {
      "cell_type": "code",
      "source": [
        "index = pc.Index(index_name) # connect to an index\n",
        "\n",
        "index.upsert(\n",
        "    vectors=[\n",
        "        {\"id\": \"vec1\", \"values\": [1.0, 1.5]},\n",
        "        {\"id\": \"vec2\", \"values\": [2.0, 1.0]},\n",
        "        {\"id\": \"vec3\", \"values\": [0.1, 3.0]},\n",
        "        {\"id\": \"vec4\", \"values\": [1.0, -2.5]},\n",
        "        {\"id\": \"vec5\", \"values\": [3.0, -2.0]},\n",
        "        {\"id\": \"vec6\", \"values\": [0.5, -1.5]},\n",
        "    ],\n",
        "    namespace=\"ns1\"\n",
        ")\n",
        "\n",
        "# index.upsert(\n",
        "#     vectors=[\n",
        "#         {\"id\": \"vec1\", \"values\": [1.0, -2.5]},\n",
        "#         {\"id\": \"vec2\", \"values\": [3.0, -2.0]},\n",
        "#         {\"id\": \"vec3\", \"values\": [0.5, -1.5]},\n",
        "#     ],\n",
        "#     namespace=\"ns1\"\n",
        "# )\n",
        "\n",
        "# index.upsert(\n",
        "#     vectors=[\n",
        "#         {\"id\": \"vec1\", \"values\": [1.0, 0.5]},\n",
        "#         {\"id\": \"vec2\", \"values\": [3.0, -1.0]},\n",
        "#         {\"id\": \"vec3\", \"values\": [0.5, -2.5]},\n",
        "#     ],\n",
        "#     namespace=\"ns2\"\n",
        "# )"
      ],
      "metadata": {
        "colab": {
          "base_uri": "https://localhost:8080/"
        },
        "id": "r-YPKzM3kmdr",
        "outputId": "4b7b553f-d273-4527-c5b5-7d2e3cb65d26"
      },
      "execution_count": 10,
      "outputs": [
        {
          "output_type": "execute_result",
          "data": {
            "text/plain": [
              "{'upserted_count': 6}"
            ]
          },
          "metadata": {},
          "execution_count": 10
        }
      ]
    },
    {
      "cell_type": "code",
      "source": [
        "index.update(id=\"vec1\", values=[1.0, 11.5], namespace=\"ns1\")"
      ],
      "metadata": {
        "colab": {
          "base_uri": "https://localhost:8080/"
        },
        "id": "b_PyLuNmomw7",
        "outputId": "d66d2ba8-31d4-4065-d14d-207e6f0afa6e"
      },
      "execution_count": 13,
      "outputs": [
        {
          "output_type": "execute_result",
          "data": {
            "text/plain": [
              "{}"
            ]
          },
          "metadata": {},
          "execution_count": 13
        }
      ]
    },
    {
      "cell_type": "markdown",
      "source": [
        "# **Query Vector Data**"
      ],
      "metadata": {
        "id": "ucyGtEA8neOh"
      }
    },
    {
      "cell_type": "code",
      "source": [
        "index.query(vector=[1,2],top_k=2,namespace=\"ns1\") #cosine similarity score"
      ],
      "metadata": {
        "colab": {
          "base_uri": "https://localhost:8080/"
        },
        "id": "BGwkogu2kmf8",
        "outputId": "24128063-ba08-4aee-ddc4-9c981685bf58"
      },
      "execution_count": 18,
      "outputs": [
        {
          "output_type": "execute_result",
          "data": {
            "text/plain": [
              "{'matches': [{'id': 'vec1', 'score': 0.92980659, 'values': []},\n",
              "             {'id': 'vec3', 'score': 0.90882951, 'values': []}],\n",
              " 'namespace': 'ns1',\n",
              " 'usage': {'read_units': 5}}"
            ]
          },
          "metadata": {},
          "execution_count": 18
        }
      ]
    },
    {
      "cell_type": "markdown",
      "source": [
        "# **Fetch Vectors By Id**"
      ],
      "metadata": {
        "id": "GrbdgUvCnlDF"
      }
    },
    {
      "cell_type": "code",
      "source": [
        "index.fetch(ids=[\"vec1\",\"vec3\"],namespace=\"ns1\")"
      ],
      "metadata": {
        "colab": {
          "base_uri": "https://localhost:8080/"
        },
        "id": "XIVrZ9yokmk3",
        "outputId": "37755e14-b3b6-47c7-9473-3ab25b8b5f07"
      },
      "execution_count": 20,
      "outputs": [
        {
          "output_type": "execute_result",
          "data": {
            "text/plain": [
              "{'namespace': 'ns1',\n",
              " 'usage': {'read_units': 1},\n",
              " 'vectors': {'vec1': {'id': 'vec1', 'values': [1.0, 11.5]},\n",
              "             'vec3': {'id': 'vec3', 'values': [0.1, 3.0]}}}"
            ]
          },
          "metadata": {},
          "execution_count": 20
        }
      ]
    },
    {
      "cell_type": "markdown",
      "source": [
        "# **Delete Vectors**"
      ],
      "metadata": {
        "id": "xhMmfPgHntQX"
      }
    },
    {
      "cell_type": "code",
      "source": [
        "index.delete(ids=[\"vec1\",\"vec2\"],namespace=\"ns1\")"
      ],
      "metadata": {
        "colab": {
          "base_uri": "https://localhost:8080/"
        },
        "id": "7MeLBiMmkmtP",
        "outputId": "b56dcd39-32d2-407a-e3d4-f736cbde0e0e"
      },
      "execution_count": 21,
      "outputs": [
        {
          "output_type": "execute_result",
          "data": {
            "text/plain": [
              "{}"
            ]
          },
          "metadata": {},
          "execution_count": 21
        }
      ]
    },
    {
      "cell_type": "code",
      "source": [
        "index.delete(delete_all=True,namespace=\"ns1\")"
      ],
      "metadata": {
        "colab": {
          "base_uri": "https://localhost:8080/"
        },
        "id": "_SBO9t5Okmvr",
        "outputId": "08a8fd7c-3d77-4d23-b1d3-8671c419de44"
      },
      "execution_count": 23,
      "outputs": [
        {
          "output_type": "execute_result",
          "data": {
            "text/plain": [
              "{}"
            ]
          },
          "metadata": {},
          "execution_count": 23
        }
      ]
    },
    {
      "cell_type": "markdown",
      "source": [
        "# **Vector_Paritioning-Namespace**"
      ],
      "metadata": {
        "id": "FtdWF0LT5wwr"
      }
    },
    {
      "cell_type": "code",
      "source": [
        "import numpy as np"
      ],
      "metadata": {
        "id": "doKIqNSQHpar"
      },
      "execution_count": 34,
      "outputs": []
    },
    {
      "cell_type": "code",
      "source": [
        "emails_with_subject = 20\n",
        "emails_with_body = 45\n",
        "emails_with_other = 45\n",
        "dimensions = 2"
      ],
      "metadata": {
        "id": "wzlHjAye50uE"
      },
      "execution_count": 35,
      "outputs": []
    },
    {
      "cell_type": "code",
      "source": [
        "# create vectors, assume embedded\n",
        "# python list of lists\n",
        "vects_subj= np.random.rand(emails_with_subject, dimensions).tolist()\n",
        "vects_body= np.random.rand(emails_with_body, dimensions).tolist()\n",
        "vects_other= np.random.rand(emails_with_other, dimensions).tolist()\n",
        "\n",
        "# create ids for these vectors ,IDs are string\n",
        "\n",
        "ids_subj = map(str, np.arange(emails_with_subject).tolist())\n",
        "ids_body = map(str, np.arange(emails_with_body).tolist())\n",
        "ids_other = map(str, np.arange(emails_with_other).tolist())\n",
        "\n",
        "# zip id and vector\n",
        "vectors_subj = list(zip(ids_subj, vects_subj)) # list of tuples (id, values)\n",
        "vectors_body = list(zip(ids_body, vects_body) )\n",
        "vectors_other = list(zip(ids_other, vects_other))\n",
        "\n",
        "\n",
        "# upsert vectors into index with different namespace\n",
        "\n",
        "index.upsert(vectors_subj, namespace='subject')\n",
        "index.upsert(vectors_body, namespace='body')\n",
        "index.upsert(vectors_other) # default namespace is \"\""
      ],
      "metadata": {
        "colab": {
          "base_uri": "https://localhost:8080/"
        },
        "id": "gBEJvu6w504s",
        "outputId": "a9b0e3be-cbbe-41e7-9eee-8b57cfd17cf0"
      },
      "execution_count": 36,
      "outputs": [
        {
          "output_type": "execute_result",
          "data": {
            "text/plain": [
              "{'upserted_count': 45}"
            ]
          },
          "metadata": {},
          "execution_count": 36
        }
      ]
    },
    {
      "cell_type": "code",
      "source": [
        "index.query(vector = list(np.random.rand(2)),\n",
        "          top_k=3,\n",
        "          namespace='',\n",
        "          include_values=True)"
      ],
      "metadata": {
        "colab": {
          "base_uri": "https://localhost:8080/"
        },
        "id": "TCRc6Hci508i",
        "outputId": "64e343bf-6a29-4870-db4f-f7bec22c99d0"
      },
      "execution_count": 38,
      "outputs": [
        {
          "output_type": "execute_result",
          "data": {
            "text/plain": [
              "{'matches': [{'id': '10',\n",
              "              'score': 0.999987721,\n",
              "              'values': [0.345027089, 0.401302]},\n",
              "             {'id': '7',\n",
              "              'score': 0.99981463,\n",
              "              'values': [0.880247831, 0.975007772]},\n",
              "             {'id': '15',\n",
              "              'score': 0.998124957,\n",
              "              'values': [0.69944948, 0.71220994]}],\n",
              " 'namespace': '',\n",
              " 'usage': {'read_units': 6}}"
            ]
          },
          "metadata": {},
          "execution_count": 38
        }
      ]
    },
    {
      "cell_type": "code",
      "source": [
        "# update and fetch\n",
        "vectors_other[44]  # current value"
      ],
      "metadata": {
        "colab": {
          "base_uri": "https://localhost:8080/"
        },
        "id": "pwTf-VRR50-N",
        "outputId": "53ab15d0-62c6-4308-80b1-19f2d97ecab9"
      },
      "execution_count": 39,
      "outputs": [
        {
          "output_type": "execute_result",
          "data": {
            "text/plain": [
              "('44', [0.9142305745341301, 0.0638388481053932])"
            ]
          },
          "metadata": {},
          "execution_count": 39
        }
      ]
    },
    {
      "cell_type": "code",
      "source": [
        "new_value = [0.1, 0.1]"
      ],
      "metadata": {
        "id": "lOgkxSo651As"
      },
      "execution_count": 42,
      "outputs": []
    },
    {
      "cell_type": "code",
      "source": [
        "index.update(id = '44',\n",
        "          values= new_value,\n",
        "          namespace = '')\n",
        "index.fetch(ids = ['44'], namespace = '')"
      ],
      "metadata": {
        "colab": {
          "base_uri": "https://localhost:8080/"
        },
        "id": "kXqx782w51EO",
        "outputId": "7b8eec6d-cae8-412f-a520-b8cf9d5c5308"
      },
      "execution_count": 43,
      "outputs": [
        {
          "output_type": "execute_result",
          "data": {
            "text/plain": [
              "{'namespace': '',\n",
              " 'usage': {'read_units': 1},\n",
              " 'vectors': {'44': {'id': '44', 'values': [0.1, 0.1]}}}"
            ]
          },
          "metadata": {},
          "execution_count": 43
        }
      ]
    },
    {
      "cell_type": "code",
      "source": [
        "# delete\n",
        "index.delete(ids = ['0', '1'], namespace='subject')"
      ],
      "metadata": {
        "colab": {
          "base_uri": "https://localhost:8080/"
        },
        "id": "yYjvKSmj51Gb",
        "outputId": "a83db8ea-0a2c-47af-cb55-648850d7e284"
      },
      "execution_count": 44,
      "outputs": [
        {
          "output_type": "execute_result",
          "data": {
            "text/plain": [
              "{}"
            ]
          },
          "metadata": {},
          "execution_count": 44
        }
      ]
    },
    {
      "cell_type": "code",
      "source": [
        "index.delete(delete_all=True) # deleted vector without namespace"
      ],
      "metadata": {
        "colab": {
          "base_uri": "https://localhost:8080/"
        },
        "id": "DJp7Vypf51KQ",
        "outputId": "ab6e0cdf-773b-459c-dbf1-fa82abdef2a3"
      },
      "execution_count": 45,
      "outputs": [
        {
          "output_type": "execute_result",
          "data": {
            "text/plain": [
              "{}"
            ]
          },
          "metadata": {},
          "execution_count": 45
        }
      ]
    },
    {
      "cell_type": "code",
      "source": [
        "index.delete(delete_all=True, namespace='body')"
      ],
      "metadata": {
        "colab": {
          "base_uri": "https://localhost:8080/"
        },
        "id": "B_VR4nt651N7",
        "outputId": "a2f7faf4-8d37-4580-d7d1-517244c6788f"
      },
      "execution_count": 46,
      "outputs": [
        {
          "output_type": "execute_result",
          "data": {
            "text/plain": [
              "{}"
            ]
          },
          "metadata": {},
          "execution_count": 46
        }
      ]
    },
    {
      "cell_type": "markdown",
      "source": [
        "# **Vector_Partitioning-Metadata**"
      ],
      "metadata": {
        "id": "zq1HQpEx52cR"
      }
    },
    {
      "cell_type": "code",
      "source": [
        "index.upsert([\n",
        "    (\"1\", [0.1, 0.1], {\"topic\": \"subject\", \"year\": 2023}),\n",
        "    (\"2\", [0.2, 0.2], {\"topic\": \"other\", \"year\": 2022}),\n",
        "    (\"3\", [0.3, 0.3], {\"topic\": \"body\", \"year\": 2023}),\n",
        "    (\"4\", [0.4, 0.4], {\"topic\": \"body\"}),\n",
        "    (\"5\", [0.5, 0.5], {\"topic\": \"subject\"})\n",
        "])"
      ],
      "metadata": {
        "colab": {
          "base_uri": "https://localhost:8080/"
        },
        "id": "ADjJHG5F51Sd",
        "outputId": "41d2be6e-a8b2-4336-cbe4-af850ffa45a2"
      },
      "execution_count": 47,
      "outputs": [
        {
          "output_type": "execute_result",
          "data": {
            "text/plain": [
              "{'upserted_count': 5}"
            ]
          },
          "metadata": {},
          "execution_count": 47
        }
      ]
    },
    {
      "cell_type": "code",
      "source": [
        "index.query(vector =[0,0],\n",
        "          top_k=2,\n",
        "          include_metadata=True,\n",
        "          include_values=True,\n",
        "          filter={\n",
        "             \"topic\" : {\"$eq\": \"subject\"},\n",
        "              \"year\" : 2023\n",
        "         })"
      ],
      "metadata": {
        "colab": {
          "base_uri": "https://localhost:8080/"
        },
        "id": "BpsTbeav51Vy",
        "outputId": "2366506f-80e7-4c6c-cfaf-7ef18129dcd5"
      },
      "execution_count": 48,
      "outputs": [
        {
          "output_type": "execute_result",
          "data": {
            "text/plain": [
              "{'matches': [{'id': '1',\n",
              "              'metadata': {'topic': 'subject', 'year': 2023.0},\n",
              "              'score': 0.0,\n",
              "              'values': [0.1, 0.1]}],\n",
              " 'namespace': '',\n",
              " 'usage': {'read_units': 6}}"
            ]
          },
          "metadata": {},
          "execution_count": 48
        }
      ]
    },
    {
      "cell_type": "code",
      "source": [
        "index.fetch(ids=['1'])"
      ],
      "metadata": {
        "colab": {
          "base_uri": "https://localhost:8080/"
        },
        "id": "dOUFLb1LJFzG",
        "outputId": "f7441a42-52c0-4c82-ecfd-c11cc44f6194"
      },
      "execution_count": 49,
      "outputs": [
        {
          "output_type": "execute_result",
          "data": {
            "text/plain": [
              "{'namespace': '',\n",
              " 'usage': {'read_units': 1},\n",
              " 'vectors': {'1': {'id': '1',\n",
              "                   'metadata': {'topic': 'subject', 'year': 2023.0},\n",
              "                   'values': [0.1, 0.1]}}}"
            ]
          },
          "metadata": {},
          "execution_count": 49
        }
      ]
    },
    {
      "cell_type": "code",
      "source": [
        "index.update(id='1',\n",
        "           values=[0.1,0.11],\n",
        "           set_metadata = {'topic': 'other', 'year': 2020})"
      ],
      "metadata": {
        "colab": {
          "base_uri": "https://localhost:8080/"
        },
        "id": "5s3DQ5wlJGpK",
        "outputId": "d0996a94-2d54-4ccb-8e86-9922886a415a"
      },
      "execution_count": 51,
      "outputs": [
        {
          "output_type": "execute_result",
          "data": {
            "text/plain": [
              "{}"
            ]
          },
          "metadata": {},
          "execution_count": 51
        }
      ]
    },
    {
      "cell_type": "code",
      "source": [
        "index.fetch(ids=['1'])"
      ],
      "metadata": {
        "colab": {
          "base_uri": "https://localhost:8080/"
        },
        "id": "FrxirXPbJpsN",
        "outputId": "8eb8104d-4d64-4cfb-f108-1d35cf5efc00"
      },
      "execution_count": 52,
      "outputs": [
        {
          "output_type": "execute_result",
          "data": {
            "text/plain": [
              "{'namespace': '',\n",
              " 'usage': {'read_units': 1},\n",
              " 'vectors': {'1': {'id': '1',\n",
              "                   'metadata': {'topic': 'other', 'year': 2020.0},\n",
              "                   'values': [0.1, 0.11]}}}"
            ]
          },
          "metadata": {},
          "execution_count": 52
        }
      ]
    },
    {
      "cell_type": "code",
      "source": [
        "# index.delete(filter = {\n",
        "#     \"topic\" : {\"$eq\": \"other\"}\n",
        "# })\n",
        "# serverless doesn't support"
      ],
      "metadata": {
        "id": "vYVv-dEpJGrm"
      },
      "execution_count": 55,
      "outputs": []
    }
  ]
}